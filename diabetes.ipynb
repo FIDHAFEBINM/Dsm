{
 "cells": [
  {
   "cell_type": "code",
   "execution_count": 4,
   "id": "ed13d9f4",
   "metadata": {},
   "outputs": [
    {
     "name": "stdout",
     "output_type": "stream",
     "text": [
      "target values\n",
      " 0      1\n",
      "1      0\n",
      "2      1\n",
      "3      0\n",
      "4      1\n",
      "      ..\n",
      "763    0\n",
      "764    0\n",
      "765    0\n",
      "766    1\n",
      "767    0\n",
      "Name: Outcome, Length: 768, dtype: int64\n",
      "0.6493506493506493\n"
     ]
    }
   ],
   "source": [
    "import numpy as np\n",
    "import pandas as pd\n",
    "from sklearn.datasets import load_diabetes\n",
    "from sklearn.model_selection import train_test_split\n",
    "from sklearn.neighbors import KNeighborsClassifier\n",
    "from sklearn.metrics import accuracy_score\n",
    "df=pd.read_csv('diabetes.csv')\n",
    "\n",
    "x=df.iloc[:,0:8]\n",
    "y=df.iloc[:,8]\n",
    "print(\"target values\\n\",y)\n",
    "\n",
    "x_train,x_test,y_train,y_test=train_test_split(x,y,test_size=0.2,random_state=42)\n",
    "knn=KNeighborsClassifier(n_neighbors=3)\n",
    "knn.fit(x_train,y_train)\n",
    "j=knn.predict(x_test)\n",
    "a=accuracy_score(y_test,j)\n",
    "print(a)"
   ]
  },
  {
   "cell_type": "code",
   "execution_count": 5,
   "id": "f7c1fe94",
   "metadata": {},
   "outputs": [
    {
     "name": "stdout",
     "output_type": "stream",
     "text": [
      "enter 8 feature values for the new data point:\n",
      "feature 1:5\n",
      "feature 2:4\n",
      "feature 3:3\n",
      "feature 4:5\n",
      "feature 5:6\n",
      "feature 6:7\n",
      "feature 7:5\n",
      "feature 8:5\n",
      "[[5. 4. 3. 5. 6. 7. 5. 5.]]\n",
      "prediction for new data point: [0]\n",
      "not diabetic\n"
     ]
    }
   ],
   "source": [
    "new=[]\n",
    "print(\"enter 8 feature values for the new data point:\")\n",
    "for i in range(8):\n",
    "    value=float(input(f\"feature {i+1}:\"))\n",
    "    new.append(value)\n",
    "new=np.array(new).reshape(1,-1)\n",
    "print(new)\n",
    "yn=knn.predict(new)\n",
    "print(f'prediction for new data point:',yn)\n",
    "if yn==0:\n",
    "    print(\"not diabetic\")\n",
    "else:\n",
    "    print(\"diabetic\")"
   ]
  },
  {
   "cell_type": "code",
   "execution_count": null,
   "id": "a7eda580",
   "metadata": {},
   "outputs": [],
   "source": []
  }
 ],
 "metadata": {
  "kernelspec": {
   "display_name": "Python 3 (ipykernel)",
   "language": "python",
   "name": "python3"
  },
  "language_info": {
   "codemirror_mode": {
    "name": "ipython",
    "version": 3
   },
   "file_extension": ".py",
   "mimetype": "text/x-python",
   "name": "python",
   "nbconvert_exporter": "python",
   "pygments_lexer": "ipython3",
   "version": "3.9.7"
  }
 },
 "nbformat": 4,
 "nbformat_minor": 5
}
