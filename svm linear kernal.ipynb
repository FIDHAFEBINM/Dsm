{
 "cells": [
  {
   "cell_type": "code",
   "execution_count": null,
   "id": "9b02ae77",
   "metadata": {},
   "outputs": [],
   "source": [
    "import numpy as np\n",
    "import matplotlib.pyplot as plt\n",
    "from sklearn.datasets import load_iris\n",
    "from sklearn.model_selection import train_test_split\n",
    "from sklearn.svm import SVC\n",
    "from sklearn.metrics import accuracy_score\n",
    "\n",
    "data=load_iris()\n",
    "x=data.data[:,:2]\n",
    "y=data.target\n",
    "X_train,X_test,y_train,y_test=train_test_split(x,y,test_size=0.2,random_state=42)\n",
    "svm_model=SVC(kernel='linear')\n",
    "svm_model.fit(X_train,y_train)\n",
    "y_pred=svm_model.predict(X_test)\n",
    "accuracy=accuracy_score(y_test,y_pred)\n",
    "print(f'Accuracy of svm with polynomial kernal:{accuracy:.2f}')"
   ]
  }
 ],
 "metadata": {
  "kernelspec": {
   "display_name": "Python 3 (ipykernel)",
   "language": "python",
   "name": "python3"
  },
  "language_info": {
   "codemirror_mode": {
    "name": "ipython",
    "version": 3
   },
   "file_extension": ".py",
   "mimetype": "text/x-python",
   "name": "python",
   "nbconvert_exporter": "python",
   "pygments_lexer": "ipython3",
   "version": "3.9.7"
  }
 },
 "nbformat": 4,
 "nbformat_minor": 5
}
